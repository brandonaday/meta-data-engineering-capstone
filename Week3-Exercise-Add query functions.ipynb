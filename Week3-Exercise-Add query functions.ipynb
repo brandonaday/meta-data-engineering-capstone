{
 "cells": [
  {
   "cell_type": "code",
   "execution_count": 2,
   "id": "fcfedbab-e317-4e5a-a168-2624a6b1f95d",
   "metadata": {},
   "outputs": [],
   "source": [
    "import mysql.connector as connector\n",
    "\n",
    "from mysql.connector import Error\n",
    "from mysql.connector import pooling"
   ]
  },
  {
   "cell_type": "code",
   "execution_count": 3,
   "id": "bc213a4f",
   "metadata": {},
   "outputs": [
    {
     "name": "stdout",
     "output_type": "stream",
     "text": [
      "Requirement already satisfied: mysql.connector in /usr/local/lib/python3.11/site-packages (2.2.9)\n",
      "\n",
      "\u001b[1m[\u001b[0m\u001b[34;49mnotice\u001b[0m\u001b[1;39;49m]\u001b[0m\u001b[39;49m A new release of pip is available: \u001b[0m\u001b[31;49m23.0.1\u001b[0m\u001b[39;49m -> \u001b[0m\u001b[32;49m23.1.2\u001b[0m\n",
      "\u001b[1m[\u001b[0m\u001b[34;49mnotice\u001b[0m\u001b[1;39;49m]\u001b[0m\u001b[39;49m To update, run: \u001b[0m\u001b[32;49mpython3.11 -m pip install --upgrade pip\u001b[0m\n",
      "Note: you may need to restart the kernel to use updated packages.\n"
     ]
    }
   ],
   "source": [
    "pip install mysql.connector\n"
   ]
  },
  {
   "cell_type": "code",
   "execution_count": 4,
   "id": "57e8d99d-9b55-4e3b-87d5-8299ab133962",
   "metadata": {},
   "outputs": [],
   "source": [
    "# Import MySQL Connector/Python \n",
    "import mysql.connector as connector\n"
   ]
  },
  {
   "cell_type": "code",
   "execution_count": 5,
   "id": "541414b6",
   "metadata": {},
   "outputs": [],
   "source": [
    "connection=connector.connect(user=\"root\",password=\"\")"
   ]
  },
  {
   "cell_type": "code",
   "execution_count": 6,
   "id": "57288c1d",
   "metadata": {},
   "outputs": [],
   "source": [
    "cursor = connection.cursor()\n"
   ]
  },
  {
   "cell_type": "code",
   "execution_count": 21,
   "id": "a1d853c1",
   "metadata": {},
   "outputs": [],
   "source": [
    "cursor.execute(\"USE LittleLemonDB\")"
   ]
  },
  {
   "attachments": {},
   "cell_type": "markdown",
   "id": "41cdb4e6",
   "metadata": {},
   "source": [
    "### Step 2: Establish a connection \n",
    "\n"
   ]
  },
  {
   "cell_type": "code",
   "execution_count": 22,
   "id": "1639ef86",
   "metadata": {},
   "outputs": [
    {
     "name": "stdout",
     "output_type": "stream",
     "text": [
      "Connection pool created successfully!\n"
     ]
    }
   ],
   "source": [
    "dbconfig = {\n",
    "    'user': 'root',\n",
    "    'password': '',\n",
    "    'host': 'localhost',\n",
    "    'database': 'LittleLemonDB',\n",
    "    'pool_name': 'pool_b',\n",
    "    'pool_size': 6\n",
    "}\n",
    "\n",
    "try:\n",
    "    connection_pool_a = connector.pooling.MySQLConnectionPool(**dbconfig)\n",
    "    print(\"Connection pool created successfully!\")\n",
    "except Error as e:\n",
    "    print(f\"Error creating connection pool: {e}\")\n"
   ]
  },
  {
   "cell_type": "code",
   "execution_count": 23,
   "id": "360d43e1",
   "metadata": {},
   "outputs": [],
   "source": [
    "# Obtain a connection from the pool\n",
    "connection = connection_pool_a.get_connection()\n",
    "\n",
    "# Create a cursor object\n",
    "cursor = connection.cursor()"
   ]
  },
  {
   "cell_type": "code",
   "execution_count": 24,
   "id": "5f80e004",
   "metadata": {},
   "outputs": [
    {
     "name": "stdout",
     "output_type": "stream",
     "text": [
      "('Bookings',)\n",
      "('CustomerDetails',)\n",
      "('MenuItems',)\n",
      "('Menus',)\n",
      "('OrderDeliveryStatus',)\n",
      "('Orders',)\n",
      "('StaffInfo',)\n"
     ]
    }
   ],
   "source": [
    "show_tables_query = \"SHOW tables\"\n",
    "cursor.execute(show_tables_query)\n",
    "results = cursor.fetchall()\n",
    "for row in results:\n",
    "    print(row)\n"
   ]
  },
  {
   "attachments": {},
   "cell_type": "markdown",
   "id": "64a1fed3",
   "metadata": {},
   "source": [
    "### Create Customer Query"
   ]
  },
  {
   "cell_type": "code",
   "execution_count": 26,
   "id": "d33c416e",
   "metadata": {},
   "outputs": [],
   "source": [
    "customer_join_query = '''\n",
    "SELECT\n",
    "  c.First_Name AS FirstName,\n",
    "  c.Last_Name AS LastName,\n",
    "  c.Contact_Number AS PhoneNumber,\n",
    "  c.Address AS Address,\n",
    "  c.City AS City,\n",
    "  c.State AS State,\n",
    "  c.Email AS Email,\n",
    "  o.BillAmount AS TotalCost\n",
    "FROM CustomerDetails c\n",
    "JOIN Orders o ON c.CustID = o.CustID\n",
    "WHERE o.BillAmount > 60\n",
    "ORDER BY o.BillAmount DESC;\n",
    "'''\n",
    "\n",
    "# Execute the query \n",
    "cursor.execute(customer_join_query)\n",
    "\n"
   ]
  },
  {
   "cell_type": "code",
   "execution_count": null,
   "id": "33d845f2",
   "metadata": {},
   "outputs": [],
   "source": []
  }
 ],
 "metadata": {
  "kernelspec": {
   "display_name": "Python 3 (ipykernel)",
   "language": "python",
   "name": "python3"
  },
  "language_info": {
   "codemirror_mode": {
    "name": "ipython",
    "version": 3
   },
   "file_extension": ".py",
   "mimetype": "text/x-python",
   "name": "python",
   "nbconvert_exporter": "python",
   "pygments_lexer": "ipython3",
   "version": "3.11.3"
  }
 },
 "nbformat": 4,
 "nbformat_minor": 5
}
